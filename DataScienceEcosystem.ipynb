{
  "metadata": {
    "kernelspec": {
      "name": "python",
      "display_name": "Python (Pyodide)",
      "language": "python"
    },
    "language_info": {
      "codemirror_mode": {
        "name": "python",
        "version": 3
      },
      "file_extension": ".py",
      "mimetype": "text/x-python",
      "name": "python",
      "nbconvert_exporter": "python",
      "pygments_lexer": "ipython3",
      "version": "3.8"
    }
  },
  "nbformat_minor": 5,
  "nbformat": 4,
  "cells": [
    {
      "id": "9e872d51-aa48-45fc-8de3-dfd1603ed7e9",
      "cell_type": "markdown",
      "source": "# Data Science Tools and Ecosystem",
      "metadata": {}
    },
    {
      "id": "7869cf74-0e95-4098-9f1c-961cb6115015",
      "cell_type": "markdown",
      "source": "In this notebook, Data Science Tools and Ecosystem are summarized.",
      "metadata": {}
    },
    {
      "id": "6de9dae4-7c56-4faf-87f2-7524b4beacf1",
      "cell_type": "markdown",
      "source": "**Objectives:**\n- List popular languages for Data Science\n- Identify commonly used Data Science libraries\n- Summarize open-source Data Science tools\n- Create and format Markdown cells in Jupyter Notebook\n",
      "metadata": {}
    },
    {
      "id": "54cc0a44-0f17-4b2d-bca4-249ee47aad52",
      "cell_type": "markdown",
      "source": "Some of the popular languages that Data Scientists use are:\n\n1. Python\n2. R\n3. SQL\n4. Julia\n5. Scala\n",
      "metadata": {}
    },
    {
      "id": "10af2070-5938-40fa-9bc4-4ea1c43b5702",
      "cell_type": "markdown",
      "source": "Some of the commonly used libraries used by Data Scientists include:\n\n1. NumPy\n2. Pandas\n3. Scikit-learn\n4. TensorFlow\n5. Matplotlib\n",
      "metadata": {}
    },
    {
      "id": "171e80c7-a79b-49b9-a4f8-0077ebfcbcdb",
      "cell_type": "markdown",
      "source": "# Data Science Tools\n\n| Data Science Tools |\n|--------------------|\n| Jupyter Notebook  |\n| RStudio           |\n| Apache Zeppelin   |\n",
      "metadata": {}
    },
    {
      "id": "b6311aab-581a-4ba0-b833-cf29ecaa8960",
      "cell_type": "markdown",
      "source": "### Below are a few examples of evaluating arithmetic expressions in Python.\n\n",
      "metadata": {}
    },
    {
      "id": "59606844-2b72-4596-a1d8-4537309de493",
      "cell_type": "code",
      "source": "# This is a simple arithmetic expression to multiply then add integers\na = (3 * 4) + 5\nprint(a) ",
      "metadata": {
        "trusted": true
      },
      "outputs": [
        {
          "name": "stdout",
          "output_type": "stream",
          "text": "17\n"
        }
      ],
      "execution_count": 2
    },
    {
      "id": "df203db6-2b16-4fdd-90c3-6ba52844e6d6",
      "cell_type": "code",
      "source": "# This will convert 200 minutes to hours by diving by 60\na = 200 # minutes\nb = a/60 # hours\nprint (b)",
      "metadata": {
        "trusted": true
      },
      "outputs": [
        {
          "name": "stdout",
          "output_type": "stream",
          "text": "3.3333333333333335\n"
        }
      ],
      "execution_count": 6
    },
    {
      "id": "17e03c9a-ff74-4b5d-8ad4-0bfa8b772f4a",
      "cell_type": "markdown",
      "source": "## Author\nSalman",
      "metadata": {}
    },
    {
      "id": "9a4c2f1b-0180-430a-97aa-d468cd0bf2f9",
      "cell_type": "code",
      "source": "",
      "metadata": {
        "trusted": true
      },
      "outputs": [],
      "execution_count": null
    }
  ]
}